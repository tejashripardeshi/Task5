{
  "cells": [
    {
      "cell_type": "code",
      "execution_count": null,
      "id": "68e1c887",
      "metadata": {
        "id": "68e1c887",
        "outputId": "855336d1-b1f1-4a49-f15a-21d6417ee71a"
      },
      "outputs": [
        {
          "name": "stdout",
          "output_type": "stream",
          "text": [
            "[11 22 33 44]\n",
            "<class 'numpy.ndarray'>\n",
            "int32\n",
            "11\n",
            "44\n"
          ]
        }
      ],
      "source": [
        "##numpy##\n",
        "from numpy import *\n",
        "roll = array([11,22,33,44])\n",
        "print(roll)\n",
        "print(type(roll))\n",
        "print(roll.dtype)\n",
        "print(roll[0])\n",
        "print(roll[3])"
      ]
    },
    {
      "cell_type": "markdown",
      "source": [
        ""
      ],
      "metadata": {
        "id": "rXbcIKvBZP0W"
      },
      "id": "rXbcIKvBZP0W"
    },
    {
      "cell_type": "code",
      "execution_count": null,
      "id": "7ca376a2",
      "metadata": {
        "id": "7ca376a2",
        "outputId": "200e8ec7-f9b1-4dd1-b169-bbafcf4bbc6d"
      },
      "outputs": [
        {
          "name": "stdout",
          "output_type": "stream",
          "text": [
            "[11.   22.   33.22 44.  ]\n",
            "<class 'numpy.ndarray'>\n",
            "float64\n",
            "['11' '22' '33' '44']\n",
            "<U11\n"
          ]
        }
      ],
      "source": [
        "from numpy import *\n",
        "roll = array([11,22,33.22,44])\n",
        "print(roll)\n",
        "print(type(roll))\n",
        "print(roll.dtype)\n",
        "roll = array([11,22,\"33\",44])\n",
        "print(roll)\n",
        "print(roll.dtype)"
      ]
    },
    {
      "cell_type": "code",
      "execution_count": null,
      "id": "2a8736c9",
      "metadata": {
        "id": "2a8736c9",
        "outputId": "8fa8aa44-49f6-4c3c-8c94-09c97a0dd44b"
      },
      "outputs": [
        {
          "name": "stdout",
          "output_type": "stream",
          "text": [
            "11\n",
            "22\n",
            "33\n",
            "44\n"
          ]
        }
      ],
      "source": [
        "from numpy import *\n",
        "roll = array([11,22,33,44])\n",
        "for item in roll:\n",
        "    print(item)"
      ]
    },
    {
      "cell_type": "code",
      "execution_count": null,
      "id": "c88b5d2a",
      "metadata": {
        "id": "c88b5d2a",
        "outputId": "d82ab5e3-4a5e-4ad4-a13c-56f0f6542d89"
      },
      "outputs": [
        {
          "name": "stdout",
          "output_type": "stream",
          "text": [
            "[1.         1.77777778 2.55555556 3.33333333 4.11111111 4.88888889\n",
            " 5.66666667 6.44444444 7.22222222 8.        ]\n"
          ]
        }
      ],
      "source": [
        "from numpy import *\n",
        "val = linspace(1,8,10)\n",
        "print(val)"
      ]
    },
    {
      "cell_type": "code",
      "execution_count": null,
      "id": "e3dd9a7f",
      "metadata": {
        "id": "e3dd9a7f",
        "outputId": "ced565ff-8571-483d-d0b3-a869ba6f05a7"
      },
      "outputs": [
        {
          "name": "stdout",
          "output_type": "stream",
          "text": [
            "[1.   1.14 1.28 1.42 1.56 1.7  1.84 1.98 2.12 2.26 2.4  2.54 2.68 2.82\n",
            " 2.96 3.1  3.24 3.38 3.52 3.66 3.8  3.94 4.08 4.22 4.36 4.5  4.64 4.78\n",
            " 4.92 5.06 5.2  5.34 5.48 5.62 5.76 5.9  6.04 6.18 6.32 6.46 6.6  6.74\n",
            " 6.88 7.02 7.16 7.3  7.44 7.58 7.72 7.86]\n"
          ]
        }
      ],
      "source": [
        "from numpy import *\n",
        "val = linspace(1,8,endpoint=False)\n",
        "print(val)"
      ]
    },
    {
      "cell_type": "code",
      "execution_count": null,
      "id": "4898b54f",
      "metadata": {
        "id": "4898b54f",
        "outputId": "65cc6bfa-58fd-452b-9fdf-88e09e4087f5"
      },
      "outputs": [
        {
          "name": "stdout",
          "output_type": "stream",
          "text": [
            "[1. 1. 1. 1. 1.]\n",
            "[1 1 1 1 1]\n",
            "[[1 1]\n",
            " [1 1]\n",
            " [1 1]]\n"
          ]
        }
      ],
      "source": [
        "#ones\n",
        "from numpy import *\n",
        "val = ones(5)\n",
        "print(val)\n",
        "val = ones(5, dtype=int)\n",
        "print(val)\n",
        "val = ones((3,2),dtype=int)\n",
        "print(val)"
      ]
    },
    {
      "cell_type": "code",
      "execution_count": null,
      "id": "9e8149a9",
      "metadata": {
        "id": "9e8149a9",
        "outputId": "afd33dac-e4ac-4115-aa73-3b6fd7f06c5b"
      },
      "outputs": [
        {
          "name": "stdout",
          "output_type": "stream",
          "text": [
            "[16 27 38 49]\n",
            "[11 22 33 44]\n",
            "[22 44 66 88]\n"
          ]
        }
      ],
      "source": [
        "#Mathematical Calculation\n",
        "from numpy import *\n",
        "val = array([11,22,33,44])\n",
        "val = val + 5\n",
        "print(val)\n",
        "val = val - 5\n",
        "print(val)\n",
        "val = val * 2\n",
        "print(val)"
      ]
    },
    {
      "cell_type": "code",
      "execution_count": null,
      "id": "f939b278",
      "metadata": {
        "id": "f939b278",
        "outputId": "1691d489-73e5-4180-968a-ae4d8ea0c17b"
      },
      "outputs": [
        {
          "name": "stdout",
          "output_type": "stream",
          "text": [
            "[0 1 2 3 4 5 6 7 8 9]\n",
            "[5 6 7 8 9]\n",
            "[]\n",
            "[1 3 5 7 9]\n"
          ]
        }
      ],
      "source": [
        "#arange\n",
        "from numpy import *\n",
        "val = arange(10)\n",
        "print(val)\n",
        "val = arange(5,10)\n",
        "print(val)\n",
        "val = arange(5,0)\n",
        "print(val)\n",
        "val = arange(1,10,2)\n",
        "print(val)"
      ]
    },
    {
      "cell_type": "code",
      "execution_count": null,
      "id": "2a5777ef",
      "metadata": {
        "id": "2a5777ef",
        "outputId": "f5340aa1-a72f-4c13-feba-9fc56921e27f"
      },
      "outputs": [
        {
          "name": "stdout",
          "output_type": "stream",
          "text": [
            "    cars  passings\n",
            "0    BMW         3\n",
            "1  Volvo         7\n",
            "2   Ford         2\n"
          ]
        }
      ],
      "source": [
        "##Pandas##\n",
        "import pandas\n",
        "mydataset = {\n",
        "  'cars': [\"BMW\", \"Volvo\", \"Ford\"],\n",
        "  'passings': [3, 7, 2]\n",
        "}\n",
        "myvar = pandas.DataFrame(mydataset)\n",
        "print(myvar)"
      ]
    },
    {
      "cell_type": "code",
      "execution_count": null,
      "id": "5a881fd0",
      "metadata": {
        "id": "5a881fd0",
        "outputId": "60196572-3de5-4f0f-b25f-cdad6cd32b95"
      },
      "outputs": [
        {
          "name": "stdout",
          "output_type": "stream",
          "text": [
            "    cars  passings\n",
            "0    BMW         3\n",
            "1  Volvo         7\n",
            "2   Ford         2\n"
          ]
        }
      ],
      "source": [
        "#sample pandas\n",
        "import pandas as pd\n",
        "mydataset = {\n",
        "  'cars': [\"BMW\", \"Volvo\", \"Ford\"],\n",
        "  'passings': [3, 7, 2]\n",
        "}\n",
        "myvar = pd.DataFrame(mydataset)\n",
        "print(myvar)"
      ]
    },
    {
      "cell_type": "code",
      "execution_count": null,
      "id": "c88df02d",
      "metadata": {
        "id": "c88df02d",
        "outputId": "2b622232-4139-46eb-aef9-9c0141ab0d10"
      },
      "outputs": [
        {
          "name": "stdout",
          "output_type": "stream",
          "text": [
            "1.2.4\n"
          ]
        }
      ],
      "source": [
        "#check version\n",
        "import pandas as pd\n",
        "print(pd.__version__)"
      ]
    },
    {
      "cell_type": "code",
      "execution_count": null,
      "id": "cf0bd76d",
      "metadata": {
        "id": "cf0bd76d",
        "outputId": "7a167b78-d1ee-4e8d-9abc-3421a7974e1c"
      },
      "outputs": [
        {
          "name": "stdout",
          "output_type": "stream",
          "text": [
            "0    1\n",
            "1    7\n",
            "2    2\n",
            "dtype: int64\n"
          ]
        }
      ],
      "source": [
        "#series\n",
        "import pandas as pd\n",
        "a = [1, 7, 2]\n",
        "myvar = pd.Series(a)\n",
        "print(myvar)"
      ]
    },
    {
      "cell_type": "code",
      "execution_count": null,
      "id": "2c9dc9b4",
      "metadata": {
        "id": "2c9dc9b4",
        "outputId": "fcb86da5-e6cf-4985-a1ec-1688ba6a2dc6"
      },
      "outputs": [
        {
          "name": "stdout",
          "output_type": "stream",
          "text": [
            "x    1\n",
            "y    7\n",
            "z    2\n",
            "dtype: int64\n",
            "7\n"
          ]
        }
      ],
      "source": [
        "#Labels\n",
        "import pandas as pd\n",
        "a = [1, 7, 2]\n",
        "myvar = pd.Series(a, index = [\"x\", \"y\", \"z\"])\n",
        "print(myvar)\n",
        "print(myvar[\"y\"])"
      ]
    },
    {
      "cell_type": "code",
      "execution_count": null,
      "id": "faff9ec6",
      "metadata": {
        "id": "faff9ec6",
        "outputId": "6f83bd3c-eb67-4176-faa9-4d515a8c54c6"
      },
      "outputs": [
        {
          "name": "stdout",
          "output_type": "stream",
          "text": [
            "day1    420\n",
            "day2    380\n",
            "day3    390\n",
            "dtype: int64\n"
          ]
        }
      ],
      "source": [
        "#Key valu objec series\n",
        "import pandas as pd\n",
        "calories = {\"day1\": 420, \"day2\": 380, \"day3\": 390}\n",
        "myvar = pd.Series(calories)\n",
        "print(myvar)"
      ]
    },
    {
      "cell_type": "code",
      "execution_count": null,
      "id": "535789c5",
      "metadata": {
        "id": "535789c5",
        "outputId": "9b76a9f0-cead-4949-a4e0-53d175b6a512"
      },
      "outputs": [
        {
          "name": "stdout",
          "output_type": "stream",
          "text": [
            "   calories  duration\n",
            "0       420        50\n",
            "1       380        40\n",
            "2       390        45\n"
          ]
        }
      ],
      "source": [
        "#DataFrame \n",
        "import pandas as pd\n",
        "data = {\n",
        "  \"calories\": [420, 380, 390],\n",
        "  \"duration\": [50, 40, 45]\n",
        "}\n",
        "myvar = pd.DataFrame(data)\n",
        "print(myvar)"
      ]
    },
    {
      "cell_type": "code",
      "execution_count": null,
      "id": "c96793c7",
      "metadata": {
        "id": "c96793c7",
        "outputId": "394d01a6-cbfe-44f3-beeb-59001b459e2f"
      },
      "outputs": [
        {
          "name": "stdout",
          "output_type": "stream",
          "text": [
            "3.3.4\n"
          ]
        }
      ],
      "source": [
        "##Matplotlib\n",
        "#check version\n",
        "import matplotlib\n",
        "print(matplotlib.__version__)"
      ]
    },
    {
      "cell_type": "code",
      "execution_count": null,
      "id": "24229cc1",
      "metadata": {
        "id": "24229cc1",
        "outputId": "a8745cc6-a356-42a4-8703-65d954bdf65f"
      },
      "outputs": [
        {
          "name": "stderr",
          "output_type": "stream",
          "text": [
            "Matplotlib is building the font cache; this may take a moment.\n"
          ]
        },
        {
          "data": {
            "image/png": "[encoded data removed]",
            "text/plain": [
              "<Figure size 432x288 with 1 Axes>"
            ]
          },
          "metadata": {
            "needs_background": "light"
          },
          "output_type": "display_data"
        }
      ],
      "source": [
        "#using matplotlib pyplot\n",
        "import matplotlib.pyplot as plt\n",
        "import numpy as np\n",
        "xpoints = np.array([0, 6])\n",
        "ypoints = np.array([0, 250])\n",
        "plt.plot(xpoints, ypoints)\n",
        "plt.show()"
      ]
    },
    {
      "cell_type": "code",
      "execution_count": null,
      "id": "6174b418",
      "metadata": {
        "id": "6174b418",
        "outputId": "43f9f3fe-3dc2-4126-86c4-254b18b30528"
      },
      "outputs": [
        {
          "data": {
            "image/png": "[encoded data removed]",
            "text/plain": [
              "<Figure size 432x288 with 1 Axes>"
            ]
          },
          "metadata": {
            "needs_background": "light"
          },
          "output_type": "display_data"
        }
      ],
      "source": [
        "#Matplotlib Plotting\n",
        "import matplotlib.pyplot as plt\n",
        "import numpy as np\n",
        "xpoints = np.array([1, 8])\n",
        "ypoints = np.array([3, 10])\n",
        "plt.plot(xpoints, ypoints, 'o')\n",
        "plt.show()"
      ]
    },
    {
      "cell_type": "code",
      "execution_count": null,
      "id": "1d92e84e",
      "metadata": {
        "id": "1d92e84e",
        "outputId": "48ae5a06-5f4c-4ff0-e91b-0550ec6f5a2c"
      },
      "outputs": [
        {
          "data": {
            "image/png": "[encoded data removed]",
            "text/plain": [
              "<Figure size 432x288 with 1 Axes>"
            ]
          },
          "metadata": {
            "needs_background": "light"
          },
          "output_type": "display_data"
        }
      ],
      "source": [
        "#Markers\n",
        "import matplotlib.pyplot as plt\n",
        "import numpy as np\n",
        "ypoints = np.array([3, 8, 1, 10])\n",
        "plt.plot(ypoints, marker = 'o')\n",
        "plt.show()"
      ]
    },
    {
      "cell_type": "code",
      "execution_count": null,
      "id": "6583fece",
      "metadata": {
        "id": "6583fece",
        "outputId": "0229a780-7a2d-47f5-b936-b7de86109bf2"
      },
      "outputs": [
        {
          "data": {
            "image/png": "[encoded data removed]",
            "text/plain": [
              "<Figure size 432x288 with 1 Axes>"
            ]
          },
          "metadata": {
            "needs_background": "light"
          },
          "output_type": "display_data"
        }
      ],
      "source": [
        "import matplotlib.pyplot as plt\n",
        "import numpy as np\n",
        "ypoints = np.array([3, 8, 1, 10])\n",
        "plt.plot(ypoints, 'o:r')\n",
        "plt.show()"
      ]
    },
    {
      "cell_type": "code",
      "execution_count": null,
      "id": "02020413",
      "metadata": {
        "id": "02020413",
        "outputId": "6a00526d-ce2d-4af4-b8a4-27f4d7799f2a"
      },
      "outputs": [
        {
          "data": {
            "image/png": "[encoded data removed]",
            "text/plain": [
              "<Figure size 432x288 with 1 Axes>"
            ]
          },
          "metadata": {
            "needs_background": "light"
          },
          "output_type": "display_data"
        }
      ],
      "source": [
        "#linestyle\n",
        "import matplotlib.pyplot as plt\n",
        "import numpy as np\n",
        "ypoints = np.array([3, 8, 1, 10])\n",
        "plt.plot(ypoints, linestyle = 'dotted')\n",
        "plt.show()"
      ]
    },
    {
      "cell_type": "code",
      "execution_count": null,
      "id": "7cdae4c6",
      "metadata": {
        "id": "7cdae4c6",
        "outputId": "8ae36f1a-be08-4529-db76-cb664085da3e"
      },
      "outputs": [
        {
          "data": {
            "image/png": "[encoded data removed]",
            "text/plain": [
              "<Figure size 432x288 with 1 Axes>"
            ]
          },
          "metadata": {
            "needs_background": "light"
          },
          "output_type": "display_data"
        }
      ],
      "source": [
        "#Multiple line\n",
        "import matplotlib.pyplot as plt\n",
        "import numpy as np\n",
        "y1 = np.array([3, 8, 1, 10])\n",
        "y2 = np.array([6, 2, 7, 11])\n",
        "plt.plot(y1)\n",
        "plt.plot(y2)\n",
        "plt.show()"
      ]
    },
    {
      "cell_type": "code",
      "execution_count": null,
      "id": "544a137a",
      "metadata": {
        "id": "544a137a",
        "outputId": "63ef712a-9d0e-44ce-9f8b-c05a1d1229ad"
      },
      "outputs": [
        {
          "data": {
            "image/png": "[encoded data removed]",
            "text/plain": [
              "<Figure size 432x288 with 1 Axes>"
            ]
          },
          "metadata": {
            "needs_background": "light"
          },
          "output_type": "display_data"
        }
      ],
      "source": [
        "#create label pot\n",
        "import numpy as np\n",
        "import matplotlib.pyplot as plt\n",
        "x = np.array([80, 85, 90, 95, 100, 105, 110, 115, 120, 125])\n",
        "y = np.array([240, 250, 260, 270, 280, 290, 300, 310, 320, 330])\n",
        "plt.plot(x, y)\n",
        "plt.xlabel(\"Average Pulse\")\n",
        "plt.ylabel(\"Calorie Burnage\")\n",
        "plt.show()"
      ]
    },
    {
      "cell_type": "code",
      "execution_count": null,
      "id": "2dbd9369",
      "metadata": {
        "id": "2dbd9369",
        "outputId": "84035c63-0040-49ba-b94f-638e9fab9424"
      },
      "outputs": [
        {
          "data": {
            "image/png": "[encoded data removed]",
            "text/plain": [
              "<Figure size 432x288 with 1 Axes>"
            ]
          },
          "metadata": {
            "needs_background": "light"
          },
          "output_type": "display_data"
        }
      ],
      "source": [
        "#create bars\n",
        "import matplotlib.pyplot as plt\n",
        "import numpy as np\n",
        "x = np.array([\"A\", \"B\", \"C\", \"D\"])\n",
        "y = np.array([3, 8, 1, 10])\n",
        "plt.bar(x,y)\n",
        "plt.show()"
      ]
    },
    {
      "cell_type": "code",
      "execution_count": null,
      "id": "a44cd641",
      "metadata": {
        "id": "a44cd641",
        "outputId": "5e1121a3-ab3e-4485-d300-2d9455a233e7"
      },
      "outputs": [
        {
          "name": "stdout",
          "output_type": "stream",
          "text": [
            "1.6.2\n"
          ]
        }
      ],
      "source": [
        "## Scipy##\n",
        "#check version\n",
        "import scipy\n",
        "print(scipy.__version__)"
      ]
    },
    {
      "cell_type": "code",
      "execution_count": null,
      "id": "93aa8ff4",
      "metadata": {
        "id": "93aa8ff4",
        "outputId": "6e369363-ec3d-4a46-bebd-830a5550996c"
      },
      "outputs": [
        {
          "name": "stdout",
          "output_type": "stream",
          "text": [
            "1e-05\n",
            "1e-05\n",
            "4.4482216152605\n",
            "4.4482216152605\n",
            "9.80665\n",
            "9.80665\n"
          ]
        }
      ],
      "source": [
        "from scipy import constants\n",
        "\n",
        "print(constants.dyn)             #1e-05\n",
        "print(constants.dyne)            #1e-05\n",
        "print(constants.lbf)             #4.4482216152605\n",
        "print(constants.pound_force)     #4.4482216152605\n",
        "print(constants.kgf)             #9.80665\n",
        "print(constants.kilogram_force)  #9.80665"
      ]
    },
    {
      "cell_type": "code",
      "execution_count": null,
      "id": "6d8105ce",
      "metadata": {
        "id": "6d8105ce",
        "outputId": "1eb8b3e9-a282-4e5b-ece1-06bec7a6f6db"
      },
      "outputs": [
        {
          "name": "stdout",
          "output_type": "stream",
          "text": [
            "[-0.73908513]\n"
          ]
        }
      ],
      "source": [
        "#equations\n",
        "from scipy.optimize import root\n",
        "from math import cos\n",
        "def eqn(x):\n",
        "  return x + cos(x)\n",
        "myroot = root(eqn, 0)\n",
        "print(myroot.x)"
      ]
    },
    {
      "cell_type": "code",
      "execution_count": null,
      "id": "526503ec",
      "metadata": {
        "id": "526503ec",
        "outputId": "14b38908-4833-49d0-db23-6572208a0e49"
      },
      "outputs": [
        {
          "name": "stdout",
          "output_type": "stream",
          "text": [
            "      fun: 1.75\n",
            " hess_inv: array([[0.50000001]])\n",
            "      jac: array([0.])\n",
            "  message: 'Optimization terminated successfully.'\n",
            "     nfev: 8\n",
            "      nit: 2\n",
            "     njev: 4\n",
            "   status: 0\n",
            "  success: True\n",
            "        x: array([-0.50000001])\n"
          ]
        }
      ],
      "source": [
        "#find minimizes\n",
        "from scipy.optimize import minimize\n",
        "def eqn(x):\n",
        "  return x**2 + x + 2\n",
        "mymin = minimize(eqn, 0, method='BFGS')\n",
        "print(mymin)"
      ]
    },
    {
      "cell_type": "code",
      "execution_count": null,
      "id": "3057d2d3",
      "metadata": {
        "id": "3057d2d3",
        "outputId": "2b7f3e26-18c6-4620-f11f-f5557ff2050b"
      },
      "outputs": [
        {
          "name": "stdout",
          "output_type": "stream",
          "text": [
            "  (0, 5)\t1\n",
            "  (0, 6)\t1\n",
            "  (0, 8)\t2\n"
          ]
        }
      ],
      "source": [
        "#csr matrix\n",
        "import numpy as np\n",
        "from scipy.sparse import csr_matrix\n",
        "arr = np.array([0, 0, 0, 0, 0, 1, 1, 0, 2])\n",
        "print(csr_matrix(arr))"
      ]
    },
    {
      "cell_type": "code",
      "execution_count": null,
      "id": "0a62e261",
      "metadata": {
        "id": "0a62e261",
        "outputId": "1528bcb5-7b80-417d-9d65-9b784dcf714e"
      },
      "outputs": [
        {
          "name": "stdout",
          "output_type": "stream",
          "text": [
            "[1 1 2]\n"
          ]
        }
      ],
      "source": [
        "#sparse matrix\n",
        "import numpy as np\n",
        "from scipy.sparse import csr_matrix\n",
        "arr = np.array([[0, 0, 0], [0, 0, 1], [1, 0, 2]])\n",
        "print(csr_matrix(arr).data)"
      ]
    },
    {
      "cell_type": "code",
      "execution_count": null,
      "id": "ba49408d",
      "metadata": {
        "id": "ba49408d",
        "outputId": "70d34560-6fe2-4825-bcd6-27b1dfc1894b"
      },
      "outputs": [
        {
          "name": "stdout",
          "output_type": "stream",
          "text": [
            "  (1, 2)\t1\n",
            "  (2, 0)\t1\n",
            "  (2, 2)\t2\n"
          ]
        }
      ],
      "source": [
        "#dublication\n",
        "import numpy as np\n",
        "from scipy.sparse import csr_matrix\n",
        "arr = np.array([[0, 0, 0], [0, 0, 1], [1, 0, 2]])\n",
        "mat = csr_matrix(arr)\n",
        "mat.sum_duplicates()\n",
        "print(mat)"
      ]
    },
    {
      "cell_type": "code",
      "execution_count": null,
      "id": "f5e6b167",
      "metadata": {
        "id": "f5e6b167",
        "outputId": "414a3dcb-40dd-456c-b67c-164b388fb94a"
      },
      "outputs": [
        {
          "name": "stdout",
          "output_type": "stream",
          "text": [
            "(1, array([0, 0, 0]))\n"
          ]
        }
      ],
      "source": [
        "#connected components\n",
        "import numpy as np\n",
        "from scipy.sparse.csgraph import connected_components\n",
        "from scipy.sparse import csr_matrix\n",
        "arr = np.array([\n",
        "  [0, 1, 2],\n",
        "  [1, 0, 0],\n",
        "  [2, 0, 0]\n",
        "])\n",
        "newarr = csr_matrix(arr)\n",
        "print(connected_components(newarr))"
      ]
    },
    {
      "cell_type": "code",
      "execution_count": null,
      "id": "b25bd974",
      "metadata": {
        "id": "b25bd974",
        "outputId": "5c0007b1-b151-4fc8-8dcb-3221f3399d4c"
      },
      "outputs": [
        {
          "name": "stdout",
          "output_type": "stream",
          "text": [
            "(array([0., 1., 2.]), array([-9999,     0,     0]))\n"
          ]
        }
      ],
      "source": [
        "#Dijkstra\n",
        "import numpy as np\n",
        "from scipy.sparse.csgraph import dijkstra\n",
        "from scipy.sparse import csr_matrix\n",
        "arr = np.array([\n",
        "  [0, 1, 2],\n",
        "  [1, 0, 0],\n",
        "  [2, 0, 0]\n",
        "])\n",
        "newarr = csr_matrix(arr)\n",
        "print(dijkstra(newarr, return_predecessors=True, indices=0))"
      ]
    },
    {
      "cell_type": "code",
      "execution_count": null,
      "id": "c07a12ec",
      "metadata": {
        "id": "c07a12ec",
        "outputId": "97d09df8-87d5-4710-c976-77c463d1b130"
      },
      "outputs": [
        {
          "name": "stdout",
          "output_type": "stream",
          "text": [
            "(array([ 0., -1.,  2.]), array([-9999,     0,     0]))\n"
          ]
        }
      ],
      "source": [
        "#bellman ford\n",
        "import numpy as np\n",
        "from scipy.sparse.csgraph import bellman_ford\n",
        "from scipy.sparse import csr_matrix\n",
        "\n",
        "arr = np.array([\n",
        "  [0, -1, 2],\n",
        "  [1, 0, 0],\n",
        "  [2, 0, 0]\n",
        "])\n",
        "\n",
        "newarr = csr_matrix(arr)\n",
        "\n",
        "print(bellman_ford(newarr, return_predecessors=True, indices=0))"
      ]
    },
    {
      "cell_type": "code",
      "execution_count": null,
      "id": "f83adeb1",
      "metadata": {
        "id": "f83adeb1",
        "outputId": "37dd2a2c-4f6e-4577-fb7a-5e24c87ef0a0"
      },
      "outputs": [
        {
          "name": "stderr",
          "output_type": "stream",
          "text": [
            "C:\\Users\\TEJASHRI\\anaconda3\\lib\\site-packages\\seaborn\\distributions.py:2557: FutureWarning: `distplot` is a deprecated function and will be removed in a future version. Please adapt your code to use either `displot` (a figure-level function with similar flexibility) or `histplot` (an axes-level function for histograms).\n",
            "  warnings.warn(msg, FutureWarning)\n"
          ]
        },
        {
          "data": {
            "image/png": "[encoded data removed]",
            "text/plain": [
              "<Figure size 432x288 with 1 Axes>"
            ]
          },
          "metadata": {
            "needs_background": "light"
          },
          "output_type": "display_data"
        }
      ],
      "source": [
        "##Seaborn##\n",
        "#plotting distplot\n",
        "import matplotlib.pyplot as plt\n",
        "import seaborn as sns\n",
        "sns.distplot([0, 1, 2, 3, 4, 5])\n",
        "plt.show()"
      ]
    },
    {
      "cell_type": "code",
      "execution_count": null,
      "id": "a7f72ec5",
      "metadata": {
        "id": "a7f72ec5",
        "outputId": "72e1ca82-351a-4160-f627-65d600f3fac7"
      },
      "outputs": [
        {
          "name": "stderr",
          "output_type": "stream",
          "text": [
            "C:\\Users\\TEJASHRI\\anaconda3\\lib\\site-packages\\seaborn\\distributions.py:2557: FutureWarning: `distplot` is a deprecated function and will be removed in a future version. Please adapt your code to use either `displot` (a figure-level function with similar flexibility) or `kdeplot` (an axes-level function for kernel density plots).\n",
            "  warnings.warn(msg, FutureWarning)\n"
          ]
        },
        {
          "data": {
            "image/png": "[encoded data removed]",
            "text/plain": [
              "<Figure size 432x288 with 1 Axes>"
            ]
          },
          "metadata": {
            "needs_background": "light"
          },
          "output_type": "display_data"
        }
      ],
      "source": [
        "#normal distribution\n",
        "from numpy import random\n",
        "import matplotlib.pyplot as plt\n",
        "import seaborn as sns\n",
        "sns.distplot(random.normal(size=1000), hist=False)\n",
        "plt.show()"
      ]
    },
    {
      "cell_type": "code",
      "execution_count": null,
      "id": "0a0eeeac",
      "metadata": {
        "id": "0a0eeeac",
        "outputId": "6972650b-55d3-45f4-e5bc-cc750170d9ca"
      },
      "outputs": [
        {
          "name": "stderr",
          "output_type": "stream",
          "text": [
            "C:\\Users\\TEJASHRI\\anaconda3\\lib\\site-packages\\seaborn\\distributions.py:2557: FutureWarning: `distplot` is a deprecated function and will be removed in a future version. Please adapt your code to use either `displot` (a figure-level function with similar flexibility) or `histplot` (an axes-level function for histograms).\n",
            "  warnings.warn(msg, FutureWarning)\n"
          ]
        },
        {
          "data": {
            "image/png": "[encoded data removed]",
            "text/plain": [
              "<Figure size 432x288 with 1 Axes>"
            ]
          },
          "metadata": {
            "needs_background": "light"
          },
          "output_type": "display_data"
        }
      ],
      "source": [
        "#binomial distribution\n",
        "from numpy import random\n",
        "import matplotlib.pyplot as plt\n",
        "import seaborn as sns\n",
        "sns.distplot(random.binomial(n=10, p=0.5, size=1000), hist=True, kde=False)\n",
        "plt.show()"
      ]
    },
    {
      "cell_type": "code",
      "execution_count": null,
      "id": "2d4e425e",
      "metadata": {
        "id": "2d4e425e",
        "outputId": "f250df4a-165c-4296-db72-bd09ae0ac3b9"
      },
      "outputs": [
        {
          "name": "stderr",
          "output_type": "stream",
          "text": [
            "C:\\Users\\TEJASHRI\\anaconda3\\lib\\site-packages\\seaborn\\distributions.py:2557: FutureWarning: `distplot` is a deprecated function and will be removed in a future version. Please adapt your code to use either `displot` (a figure-level function with similar flexibility) or `kdeplot` (an axes-level function for kernel density plots).\n",
            "  warnings.warn(msg, FutureWarning)\n",
            "C:\\Users\\TEJASHRI\\anaconda3\\lib\\site-packages\\seaborn\\distributions.py:2557: FutureWarning: `distplot` is a deprecated function and will be removed in a future version. Please adapt your code to use either `displot` (a figure-level function with similar flexibility) or `kdeplot` (an axes-level function for kernel density plots).\n",
            "  warnings.warn(msg, FutureWarning)\n"
          ]
        },
        {
          "data": {
            "image/png": "[encoded data removed]",
            "text/plain": [
              "<Figure size 432x288 with 1 Axes>"
            ]
          },
          "metadata": {
            "needs_background": "light"
          },
          "output_type": "display_data"
        }
      ],
      "source": [
        "from numpy import random\n",
        "import matplotlib.pyplot as plt\n",
        "import seaborn as sns\n",
        "sns.distplot(random.normal(loc=50, scale=5, size=100), hist=False, label='normal')\n",
        "sns.distplot(random.binomial(n=100, p=0.5, size=100), hist=False, label='binomial')\n",
        "plt.show()"
      ]
    },
    {
      "cell_type": "code",
      "execution_count": null,
      "id": "2f152b26",
      "metadata": {
        "id": "2f152b26",
        "outputId": "6fdd8e4e-e1dd-41ed-c7e4-ad00aac3bfd6"
      },
      "outputs": [
        {
          "name": "stderr",
          "output_type": "stream",
          "text": [
            "C:\\Users\\TEJASHRI\\anaconda3\\lib\\site-packages\\seaborn\\distributions.py:2557: FutureWarning: `distplot` is a deprecated function and will be removed in a future version. Please adapt your code to use either `displot` (a figure-level function with similar flexibility) or `histplot` (an axes-level function for histograms).\n",
            "  warnings.warn(msg, FutureWarning)\n"
          ]
        },
        {
          "data": {
            "image/png": "[encoded data removed]",
            "text/plain": [
              "<Figure size 432x288 with 1 Axes>"
            ]
          },
          "metadata": {
            "needs_background": "light"
          },
          "output_type": "display_data"
        }
      ],
      "source": [
        "#poisson distribution\n",
        "from numpy import random\n",
        "import matplotlib.pyplot as plt\n",
        "import seaborn as sns\n",
        "sns.distplot(random.poisson(lam=2, size=1000), kde=False)\n",
        "plt.show()"
      ]
    },
    {
      "cell_type": "code",
      "execution_count": null,
      "id": "8987a293",
      "metadata": {
        "id": "8987a293",
        "outputId": "48acdd35-3052-4d21-c86d-9980a872aeb6"
      },
      "outputs": [
        {
          "name": "stderr",
          "output_type": "stream",
          "text": [
            "C:\\Users\\TEJASHRI\\anaconda3\\lib\\site-packages\\seaborn\\distributions.py:2557: FutureWarning: `distplot` is a deprecated function and will be removed in a future version. Please adapt your code to use either `displot` (a figure-level function with similar flexibility) or `kdeplot` (an axes-level function for kernel density plots).\n",
            "  warnings.warn(msg, FutureWarning)\n",
            "C:\\Users\\TEJASHRI\\anaconda3\\lib\\site-packages\\seaborn\\distributions.py:2557: FutureWarning: `distplot` is a deprecated function and will be removed in a future version. Please adapt your code to use either `displot` (a figure-level function with similar flexibility) or `kdeplot` (an axes-level function for kernel density plots).\n",
            "  warnings.warn(msg, FutureWarning)\n"
          ]
        },
        {
          "data": {
            "image/png": "[encoded data removed]",
            "text/plain": [
              "<Figure size 432x288 with 1 Axes>"
            ]
          },
          "metadata": {
            "needs_background": "light"
          },
          "output_type": "display_data"
        }
      ],
      "source": [
        "from numpy import random\n",
        "import matplotlib.pyplot as plt\n",
        "import seaborn as sns\n",
        "sns.distplot(random.normal(loc=50, scale=7, size=100), hist=False, label='normal')\n",
        "sns.distplot(random.poisson(lam=50, size=100), hist=False, label='poisson')\n",
        "plt.show()"
      ]
    },
    {
      "cell_type": "code",
      "execution_count": null,
      "id": "a9f3d6ca",
      "metadata": {
        "id": "a9f3d6ca",
        "outputId": "0e14c2e7-a709-43bf-f66e-5070a8c46216"
      },
      "outputs": [
        {
          "ename": "ModuleNotFoundError",
          "evalue": "No module named 'plotly'",
          "output_type": "error",
          "traceback": [
            "\u001b[1;31m---------------------------------------------------------------------------\u001b[0m",
            "\u001b[1;31mModuleNotFoundError\u001b[0m                       Traceback (most recent call last)",
            "\u001b[1;32m<ipython-input-59-a931a3d0d802>\u001b[0m in \u001b[0;36m<module>\u001b[1;34m\u001b[0m\n\u001b[1;32m----> 1\u001b[1;33m \u001b[1;32mimport\u001b[0m \u001b[0mplotly\u001b[0m\u001b[1;33m.\u001b[0m\u001b[0mexpress\u001b[0m \u001b[1;32mas\u001b[0m \u001b[0mpx\u001b[0m\u001b[1;33m\u001b[0m\u001b[1;33m\u001b[0m\u001b[0m\n\u001b[0m\u001b[0;32m      2\u001b[0m \u001b[1;33m\u001b[0m\u001b[0m\n\u001b[0;32m      3\u001b[0m \u001b[1;33m\u001b[0m\u001b[0m\n\u001b[0;32m      4\u001b[0m \u001b[1;31m# Creating the Figure instance\u001b[0m\u001b[1;33m\u001b[0m\u001b[1;33m\u001b[0m\u001b[1;33m\u001b[0m\u001b[0m\n\u001b[0;32m      5\u001b[0m \u001b[0mfig\u001b[0m \u001b[1;33m=\u001b[0m \u001b[0mpx\u001b[0m\u001b[1;33m.\u001b[0m\u001b[0mline\u001b[0m\u001b[1;33m(\u001b[0m\u001b[0mx\u001b[0m\u001b[1;33m=\u001b[0m\u001b[1;33m[\u001b[0m\u001b[1;36m1\u001b[0m\u001b[1;33m,\u001b[0m \u001b[1;36m2\u001b[0m\u001b[1;33m,\u001b[0m \u001b[1;36m3\u001b[0m\u001b[1;33m]\u001b[0m\u001b[1;33m,\u001b[0m \u001b[0my\u001b[0m\u001b[1;33m=\u001b[0m\u001b[1;33m[\u001b[0m\u001b[1;36m1\u001b[0m\u001b[1;33m,\u001b[0m \u001b[1;36m2\u001b[0m\u001b[1;33m,\u001b[0m \u001b[1;36m3\u001b[0m\u001b[1;33m]\u001b[0m\u001b[1;33m)\u001b[0m\u001b[1;33m\u001b[0m\u001b[1;33m\u001b[0m\u001b[0m\n",
            "\u001b[1;31mModuleNotFoundError\u001b[0m: No module named 'plotly'"
          ]
        }
      ],
      "source": [
        ""
      ]
    },
    {
      "cell_type": "code",
      "execution_count": null,
      "id": "8d6b0094",
      "metadata": {
        "id": "8d6b0094"
      },
      "outputs": [],
      "source": [
        ""
      ]
    }
  ],
  "metadata": {
    "kernelspec": {
      "display_name": "Python 3",
      "language": "python",
      "name": "python3"
    },
    "language_info": {
      "codemirror_mode": {
        "name": "ipython",
        "version": 3
      },
      "file_extension": ".py",
      "mimetype": "text/x-python",
      "name": "python",
      "nbconvert_exporter": "python",
      "pygments_lexer": "ipython3",
      "version": "3.8.8"
    },
    "colab": {
      "name": "Task5.ipynb",
      "provenance": []
    }
  },
  "nbformat": 4,
  "nbformat_minor": 5
}